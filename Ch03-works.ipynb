{
 "cells": [
  {
   "cell_type": "markdown",
   "metadata": {},
   "source": [
    "### 載入整理資料"
   ]
  },
  {
   "cell_type": "code",
   "execution_count": 1,
   "metadata": {
    "colab": {},
    "colab_type": "code",
    "id": "PHzNAmaBi9HT"
   },
   "outputs": [
    {
     "name": "stderr",
     "output_type": "stream",
     "text": [
      "Using TensorFlow backend.\n"
     ]
    }
   ],
   "source": [
    "from keras.datasets import imdb  #從 keras.datasets 套件中匯入 imdb 資料\n",
    "\n",
    "(train_data, train_labels),(test_data, test_labels)= imdb.load_data(\n",
    "    num_words=10000)  #從 imdb 中讀取, 只有在訓練集當中最常用的前 10,000 個單字才會被載入, 分別存入 (訓練資料, 訓練標籤) 和 (測試資料, 測試標籤)\n",
    "\n",
    "import numpy as np  #匯入 numpy 模組, 後續程式以 np 使用\n",
    "\n",
    "def vectorize_sequences(sequences, dimension=10000):  #sequences 將傳入 train_data\n",
    "    results = np.zeros((len(sequences), dimension))\n",
    "    for i, sequence in enumerate(sequences):  #用 enumerate 取元素值\n",
    "        results[i, sequence] = 1.   #將 result[i] 特定索引值的數值設定為 1\n",
    "    return results\n",
    "    \n",
    "x_train = vectorize_sequences(train_data)  #向量化訓練資料\n",
    "x_test = vectorize_sequences(test_data)  #向量化測試資料\n",
    "\n",
    "y_train = np.asarray(train_labels).astype('float32')  #向量化訓練標籤\n",
    "y_test = np.asarray(test_labels).astype('float32')  #向量化測試標籤\n",
    "\n",
    "x_val = x_train[:10000]  #取輸入資料的前 10000 個做驗證 (val)\n",
    "partial_x_train = x_train[10000:]  #輸入資料的第 10000 個開始才是訓練資料\n",
    "y_val = y_train[:10000]  #對應的, 要取標籤的前 10000 個做為驗證標籤\n",
    "partial_y_train = y_train[10000:]  #從標籤的第 10000 個開始才是訓練資料的標籤"
   ]
  },
  {
   "cell_type": "markdown",
   "metadata": {},
   "source": [
    "### 一個隱藏層"
   ]
  },
  {
   "cell_type": "code",
   "execution_count": 7,
   "metadata": {},
   "outputs": [
    {
     "name": "stdout",
     "output_type": "stream",
     "text": [
      "Train on 15000 samples, validate on 10000 samples\n",
      "Epoch 1/20\n",
      "15000/15000 [==============================] - 1s 41us/step - loss: 0.5092 - acc: 0.7907 - val_loss: 0.4033 - val_acc: 0.8604\n",
      "Epoch 2/20\n",
      "15000/15000 [==============================] - 1s 40us/step - loss: 0.3251 - acc: 0.9003 - val_loss: 0.3351 - val_acc: 0.8751\n",
      "Epoch 3/20\n",
      "15000/15000 [==============================] - 1s 39us/step - loss: 0.2524 - acc: 0.9231 - val_loss: 0.2952 - val_acc: 0.8870\n",
      "Epoch 4/20\n",
      "15000/15000 [==============================] - 1s 37us/step - loss: 0.2082 - acc: 0.9374 - val_loss: 0.2814 - val_acc: 0.8884\n",
      "Epoch 5/20\n",
      "15000/15000 [==============================] - 1s 38us/step - loss: 0.1766 - acc: 0.9471 - val_loss: 0.2766 - val_acc: 0.8869\n",
      "Epoch 6/20\n",
      "15000/15000 [==============================] - 1s 38us/step - loss: 0.1511 - acc: 0.9558 - val_loss: 0.2748 - val_acc: 0.8880\n",
      "Epoch 7/20\n",
      "15000/15000 [==============================] - 1s 39us/step - loss: 0.1323 - acc: 0.9612 - val_loss: 0.2784 - val_acc: 0.8869\n",
      "Epoch 8/20\n",
      "15000/15000 [==============================] - 1s 39us/step - loss: 0.1159 - acc: 0.9675 - val_loss: 0.2946 - val_acc: 0.8829\n",
      "Epoch 9/20\n",
      "15000/15000 [==============================] - 1s 39us/step - loss: 0.1029 - acc: 0.9724 - val_loss: 0.2960 - val_acc: 0.8856\n",
      "Epoch 10/20\n",
      "15000/15000 [==============================] - 1s 39us/step - loss: 0.0909 - acc: 0.9764 - val_loss: 0.3140 - val_acc: 0.8796\n",
      "Epoch 11/20\n",
      "15000/15000 [==============================] - 1s 37us/step - loss: 0.0808 - acc: 0.9797 - val_loss: 0.3138 - val_acc: 0.8836\n",
      "Epoch 12/20\n",
      "15000/15000 [==============================] - 1s 41us/step - loss: 0.0719 - acc: 0.9825 - val_loss: 0.3398 - val_acc: 0.8745\n",
      "Epoch 13/20\n",
      "15000/15000 [==============================] - 1s 39us/step - loss: 0.0647 - acc: 0.9847 - val_loss: 0.3473 - val_acc: 0.8758\n",
      "Epoch 14/20\n",
      "15000/15000 [==============================] - 1s 40us/step - loss: 0.0565 - acc: 0.9883 - val_loss: 0.3538 - val_acc: 0.8778\n",
      "Epoch 15/20\n",
      "15000/15000 [==============================] - 1s 38us/step - loss: 0.0502 - acc: 0.9902 - val_loss: 0.3687 - val_acc: 0.8769\n",
      "Epoch 16/20\n",
      "15000/15000 [==============================] - 1s 37us/step - loss: 0.0447 - acc: 0.9914 - val_loss: 0.3862 - val_acc: 0.8756\n",
      "Epoch 17/20\n",
      "15000/15000 [==============================] - 1s 38us/step - loss: 0.0390 - acc: 0.9938 - val_loss: 0.4130 - val_acc: 0.8743\n",
      "Epoch 18/20\n",
      "15000/15000 [==============================] - 1s 38us/step - loss: 0.0343 - acc: 0.9948 - val_loss: 0.4195 - val_acc: 0.8738\n",
      "Epoch 19/20\n",
      "15000/15000 [==============================] - 1s 38us/step - loss: 0.0303 - acc: 0.9955 - val_loss: 0.4384 - val_acc: 0.8741\n",
      "Epoch 20/20\n",
      "15000/15000 [==============================] - 1s 36us/step - loss: 0.0265 - acc: 0.9961 - val_loss: 0.4571 - val_acc: 0.8730\n"
     ]
    }
   ],
   "source": [
    "from keras import models\n",
    "from keras import layers\n",
    "from keras import optimizers\n",
    "from keras import losses\n",
    "from keras import metrics\n",
    "\n",
    "model = models.Sequential()  #使用 models 模組的 Sequential 類別, 建立一個物件讓新增的神經網路層可以進行堆疊\n",
    "model.add(layers.Dense(16, activation='relu', input_shape=(10000, )))  #輸入層\n",
    "model.add(layers.Dense(1, activation='sigmoid'))  #輸出層\n",
    "\n",
    "model.compile(optimizer=optimizers.RMSprop(lr=0.001),  #調整優化器\n",
    "              loss='binary_crossentropy',\n",
    "              metrics=['accuracy'])\n",
    "\n",
    "model.compile(optimizer=optimizers.RMSprop(lr=0.001),\n",
    "              loss=losses.binary_crossentropy,  #自行指定其他的損失函數與 metrics 函數\n",
    "              metrics=[metrics.binary_accuracy])\n",
    "\n",
    "model.compile(optimizer='rmsprop',\n",
    "              loss='binary_crossentropy',\n",
    "              metrics=['acc'])  #建立訓練模型\n",
    "\n",
    "#呼叫 fit() 開始訓練 (使用 partial_x_train 輸入資料、 partial_y_train 標籤、20 個訓練週期、一次訓練週期使用 512 筆資料\n",
    "history = model.fit(partial_x_train,\n",
    "                    partial_y_train,\n",
    "                    epochs=20,\n",
    "                    batch_size=512,\n",
    "                    validation_data=(x_val, y_val))  #同時傳入驗證集的資料與標籤\n",
    "\n",
    "history_dict = history.history"
   ]
  },
  {
   "cell_type": "markdown",
   "metadata": {},
   "source": [
    "### 顯示結果"
   ]
  },
  {
   "cell_type": "code",
   "execution_count": 8,
   "metadata": {},
   "outputs": [
    {
     "data": {
      "image/png": "[encoded data removed]",
      "text/plain": [
       "<Figure size 432x288 with 1 Axes>"
      ]
     },
     "metadata": {
      "needs_background": "light"
     },
     "output_type": "display_data"
    },
    {
     "data": {
      "image/png": "[encoded data removed]",
      "text/plain": [
       "<Figure size 432x288 with 1 Axes>"
      ]
     },
     "metadata": {
      "needs_background": "light"
     },
     "output_type": "display_data"
    },
    {
     "name": "stdout",
     "output_type": "stream",
     "text": [
      "25000/25000 [==============================] - 3s 118us/step\n",
      "[0.4917125586271286, 0.8588399887084961]\n"
     ]
    },
    {
     "data": {
      "text/plain": [
       "array([[0.05764487],\n",
       "       [0.99998724],\n",
       "       [0.8793608 ],\n",
       "       ...,\n",
       "       [0.01765409],\n",
       "       [0.03988566],\n",
       "       [0.8428408 ]], dtype=float32)"
      ]
     },
     "execution_count": 8,
     "metadata": {},
     "output_type": "execute_result"
    }
   ],
   "source": [
    "import matplotlib.pyplot as plt  #匯入 matplotlib.pyplot 模組, 後續程式用 plt 使用\n",
    "\n",
    "history_dict = history.history\n",
    "loss_values = history_dict['loss']  #取得每次訓練的 loss 訓練損失分數並存成 loss_values 變數\n",
    "val_loss_values = history_dict['val_loss']  #取得每次驗證的 val_loss 驗證損失分數並指定給 val_loss_values 變數\n",
    "\n",
    "\n",
    "epochs = range(1, len(loss_values)+ 1)  #len(loss_values) 項目個數為 20,範圍從 1 到 21 (不含 21) 的期間\n",
    "\n",
    "plt.plot(epochs, loss_values, 'bo', label='Training loss')  #以 'b' 指定用藍色線條畫出 x 軸為訓練週期、y 軸為驗證損失分數的圖表, 標籤設為驗證損失分數\n",
    "plt.plot(epochs, val_loss_values, 'b', label='Validation loss')  #以 'bo' 指定用藍色點點畫出 x 軸為訓練週期、y 軸為訓練損失分數的圖表, 標籤設為訓練損失分數\n",
    "plt.title('Training and validation loss')\n",
    "plt.xlabel('Epochs')  #將此圖表標題的 x 軸設為訓練週期分數\n",
    "plt.ylabel('Loss')  #將此圖表標題的 y 軸設為損失\n",
    "plt.legend()  #可以追加每個輸出圖表的圖像名稱\n",
    "\n",
    "plt.show()  #顯示圖表\n",
    "\n",
    "plt.clf()  #清除圖表\n",
    "acc = history_dict['acc']\n",
    "val_acc = history_dict['val_acc']\n",
    "\n",
    "plt.plot(epochs, acc, 'bo', label='Training acc')\n",
    "plt.plot(epochs, val_acc, 'b', label='Validation acc')\n",
    "plt.title('Training and validation accuracy')\n",
    "plt.xlabel('Epochs')\n",
    "plt.ylabel('Accuracy')\n",
    "plt.legend()\n",
    "\n",
    "plt.show()\n",
    "\n",
    "results = model.evaluate(x_test, y_test)  #輸入測試資料與測試標籤進行評估\n",
    "\n",
    "print(results)\n",
    "\n",
    "model.predict(x_test)"
   ]
  },
  {
   "cell_type": "code",
   "execution_count": null,
   "metadata": {},
   "outputs": [],
   "source": []
  }
 ],
 "metadata": {
  "kernelspec": {
   "display_name": "Python 3",
   "language": "python",
   "name": "python3"
  },
  "language_info": {
   "codemirror_mode": {
    "name": "ipython",
    "version": 3
   },
   "file_extension": ".py",
   "mimetype": "text/x-python",
   "name": "python",
   "nbconvert_exporter": "python",
   "pygments_lexer": "ipython3",
   "version": "3.6.9"
  }
 },
 "nbformat": 4,
 "nbformat_minor": 4
}
